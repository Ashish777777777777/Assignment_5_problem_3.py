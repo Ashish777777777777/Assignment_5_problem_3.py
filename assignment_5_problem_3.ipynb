{
 "cells": [
  {
   "cell_type": "code",
   "execution_count": 3,
   "id": "dc4442af",
   "metadata": {},
   "outputs": [
    {
     "name": "stdout",
     "output_type": "stream",
     "text": [
      "Name: Ashish w\n",
      "Roll Number: 2023001\n"
     ]
    }
   ],
   "source": [
    "class Student:\n",
    "    def __init__(self):\n",
    "        self.__name = None\n",
    "        self.__rollNumber = None\n",
    "\n",
    "    def getName(self):\n",
    "        return self.__name\n",
    "\n",
    "    def setName(self, name):\n",
    "        self.__name = name\n",
    "\n",
    "    def getRollNumber(self):\n",
    "        return self.__rollNumber\n",
    "\n",
    "    def setRollNumber(self, rollNumber):\n",
    "        self.__rollNumber = rollNumber\n",
    "\n",
    "# Testing the implementation\n",
    "if __name__ == \"__main__\":\n",
    "    student = Student()\n",
    "\n",
    "    # Setting the private properties using setter methods\n",
    "    student.setName(\"Ashish w\")\n",
    "    student.setRollNumber(\"2023001\")\n",
    "\n",
    "    # Getting and printing the private properties using getter methods\n",
    "    print(\"Name:\", student.getName())\n",
    "    print(\"Roll Number:\", student.getRollNumber())\n"
   ]
  },
  {
   "cell_type": "code",
   "execution_count": null,
   "id": "c08c074e",
   "metadata": {},
   "outputs": [],
   "source": []
  }
 ],
 "metadata": {
  "kernelspec": {
   "display_name": "Python 3 (ipykernel)",
   "language": "python",
   "name": "python3"
  },
  "language_info": {
   "codemirror_mode": {
    "name": "ipython",
    "version": 3
   },
   "file_extension": ".py",
   "mimetype": "text/x-python",
   "name": "python",
   "nbconvert_exporter": "python",
   "pygments_lexer": "ipython3",
   "version": "3.10.9"
  }
 },
 "nbformat": 4,
 "nbformat_minor": 5
}
